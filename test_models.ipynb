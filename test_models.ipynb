{
 "cells": [
  {
   "cell_type": "code",
   "execution_count": null,
   "metadata": {},
   "outputs": [],
   "source": [
    "import torch\n",
    "from models.backbones import *\n",
    "from models.projectors import *"
   ]
  },
  {
   "cell_type": "code",
   "execution_count": null,
   "metadata": {},
   "outputs": [],
   "source": [
    "class BarlowTwins(torch.nn.Module):\n",
    "    def __init__(self, backbone, projector, loss_param_scale, loss_param_lmbda):\n",
    "        super().__init__()\n",
    "        self.backbone = backbone\n",
    "        self.projector = projector\n",
    "        \n",
    "        # affine = False -> no learnable parameters\n",
    "        self.bn = torch.nn.BatchNorm1d(projector[-1].out_features, affine=False)\n",
    "        \n",
    "        self.loss_param_scale = loss_param_scale\n",
    "        self.loss_param_lmbda = loss_param_lmbda\n",
    "    \n",
    "    def forward(self, x1, x2):\n",
    "        z1 = self.projector(self.backbone(x1))\n",
    "        z2 = self.projector(self.backbone(x2))\n",
    "        \n",
    "        # emprical cross-correlation matrix\n",
    "        c = self.bn(z1).T @ self.bn(z2)\n",
    "        \n",
    "        loss = self.loss(c)\n",
    "        return loss\n",
    "    \n",
    "    def off_diagonal(self, x):\n",
    "        # return a flattened view of the off-diagonal elements of a square matrix\n",
    "        n, m = x.shape\n",
    "        assert n == m\n",
    "        return x.flatten()[:-1].view(n - 1, n + 1)[:, 1:].flatten()\n",
    "    \n",
    "    \n",
    "    def loss(self, c):\n",
    "        on_diag = torch.diagonal(c).add_(-1).pow_(2).sum().mul(self.loss_param_scale)\n",
    "        off_diag = self.off_diagonal(c).pow_(2).sum().mul(self.loss_param_scale)\n",
    "        #\n",
    "        loss = on_diag + self.loss_param_lmbda * off_diag\n",
    "        return loss"
   ]
  },
  {
   "cell_type": "code",
   "execution_count": null,
   "metadata": {},
   "outputs": [],
   "source": [
    "d_out = 512\n",
    "d_hidden = 1024\n",
    "n_hidden = 2\n",
    "normalize = True\n",
    "dropout_rate = None\n",
    "activation_last = False\n",
    "normalize_last = False\n",
    "dropout_rate_last = None"
   ]
  },
  {
   "cell_type": "code",
   "execution_count": null,
   "metadata": {},
   "outputs": [],
   "source": [
    "backbone = get_backbone(\"ResNet-18\")\n",
    "#\n",
    "projector = get_projection_head_layers(\n",
    "    d_in=backbone.dim_out,\n",
    "    d_out=d_out,\n",
    "    d_hidden=d_hidden,\n",
    "    n_hidden=n_hidden,\n",
    "    normalize=normalize,\n",
    "    dropout_rate=dropout_rate,\n",
    "    activation_last=activation_last,\n",
    "    normalize_last=normalize_last,\n",
    "    dropout_rate_last=dropout_rate_last)\n",
    "projector = torch.nn.Sequential(*projector)"
   ]
  },
  {
   "cell_type": "code",
   "execution_count": null,
   "metadata": {},
   "outputs": [],
   "source": [
    "model = BarlowTwins(backbone, projector, loss_param_scale=1/32, loss_param_lmbda=3.9e-3)"
   ]
  },
  {
   "cell_type": "code",
   "execution_count": null,
   "metadata": {},
   "outputs": [],
   "source": [
    "x1 = torch.rand((64, 3, 32, 32))\n",
    "x2 = torch.rand((64, 3, 32, 32))"
   ]
  },
  {
   "cell_type": "code",
   "execution_count": null,
   "metadata": {},
   "outputs": [],
   "source": [
    "loss = model(x1, x2)"
   ]
  },
  {
   "cell_type": "code",
   "execution_count": null,
   "metadata": {},
   "outputs": [],
   "source": []
  }
 ],
 "metadata": {
  "kernelspec": {
   "display_name": "Python 3",
   "language": "python",
   "name": "python3"
  },
  "language_info": {
   "codemirror_mode": {
    "name": "ipython",
    "version": 3
   },
   "file_extension": ".py",
   "mimetype": "text/x-python",
   "name": "python",
   "nbconvert_exporter": "python",
   "pygments_lexer": "ipython3",
   "version": "3.8.8"
  },
  "latex_envs": {
   "LaTeX_envs_menu_present": true,
   "autoclose": false,
   "autocomplete": true,
   "bibliofile": "biblio.bib",
   "cite_by": "apalike",
   "current_citInitial": 1,
   "eqLabelWithNumbers": true,
   "eqNumInitial": 1,
   "hotkeys": {
    "equation": "Ctrl-E",
    "itemize": "Ctrl-I"
   },
   "labels_anchors": false,
   "latex_user_defs": false,
   "report_style_numbering": false,
   "user_envs_cfg": false
  }
 },
 "nbformat": 4,
 "nbformat_minor": 4
}
