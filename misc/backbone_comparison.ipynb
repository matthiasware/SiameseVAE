{
 "cells": [
  {
   "cell_type": "code",
   "execution_count": null,
   "metadata": {},
   "outputs": [],
   "source": [
    "import torch\n",
    "import numpy as np\n",
    "from torchvision.models import *\n",
    "#\n",
    "import matplotlib.pyplot as plt"
   ]
  },
  {
   "cell_type": "code",
   "execution_count": null,
   "metadata": {},
   "outputs": [],
   "source": [
    "def get_model_params(model):\n",
    "    model_parameters = filter(lambda p: p.requires_grad, model.parameters())\n",
    "    params = sum([np.prod(p.size()) for p in model_parameters])\n",
    "    return params"
   ]
  },
  {
   "cell_type": "code",
   "execution_count": null,
   "metadata": {},
   "outputs": [],
   "source": [
    "model_classes = [\n",
    "    (\"VGG-16-wo-bn\", vgg16, 90.382), # HORRIBLE PERFORMANCE AND HARD TO TRAIN\n",
    "    (\"VGG-19-wo-bn\", vgg19, 90.876),\n",
    "    (\"VGG-16-w-bn\", vgg16_bn, 91.516),\n",
    "    (\"VGG-19-w-bn\", vgg19_bn, 91.842),\n",
    "    (\"ResNet-34\", resnet34, 91.420),\n",
    "    (\"ResNet-50\", resnet50, 92.862),\n",
    "    (\"ResNet-101\", resnet101, 93.546),\n",
    "    (\"ResNet-152\", resnet152, 94.046),\n",
    "    (\"Densenet-121\", densenet121, 91.972),\n",
    "    (\"Densenet-169\", densenet169, 92.806),\n",
    "    (\"Densenet-201\", densenet201, 93.370),\n",
    "    (\"Densenet-161\", densenet161, 93.560),\n",
    "    #(\"Inception-v3\", inception_v3),\n",
    "    (\"MobileNet-v2\", mobilenet_v2, 90.286),\n",
    "    (\"MobileNet-v3-Large\",mobilenet_v3_large, 91.340),\n",
    "    (\"ResNeXt-50-32x4d\", resnext50_32x4d, 93.698),\n",
    "    (\"ResNeXt-101-32x8d\", resnext101_32x8d, 94.526),\n",
    "    (\"Wide-ResNet-50-2\", wide_resnet50_2, 94.086),\n",
    "    (\"Wide-ResNet-101-2\", wide_resnet101_2, 94.284),\n",
    "    (\"MNASNet 1.0\", mnasnet1_0, 91.510),\n",
    "    \n",
    "]"
   ]
  },
  {
   "cell_type": "code",
   "execution_count": null,
   "metadata": {},
   "outputs": [],
   "source": [
    "model_data = []\n",
    "for model_name, model_class, model_acc in model_classes:\n",
    "    model = model_class()\n",
    "    model_params = get_model_params(model)\n",
    "    model_data.append((model_name, model_params, model_acc))\n",
    "    print(\"{:15}: {:,}\".format(model_name, get_model_params(model)))"
   ]
  },
  {
   "cell_type": "code",
   "execution_count": null,
   "metadata": {},
   "outputs": [],
   "source": [
    "xx = np.arange(len(model_data))\n",
    "data = sorted(model_data, key=lambda x: x[2])\n",
    "accs = [x[2] for x in data]\n",
    "names = [x[0] for x in data]\n",
    "params = [x[1] for x in data]\n",
    "#\n",
    "# acc per params\n",
    "acc_per_param = []\n",
    "for acc, param in zip(accs, params):\n",
    "    acc_per_param.append(acc / param)\n"
   ]
  },
  {
   "cell_type": "code",
   "execution_count": null,
   "metadata": {},
   "outputs": [],
   "source": [
    "# Create some mock data\n",
    "fig, ax1 = plt.subplots()\n",
    "\n",
    "\n",
    "# ACC\n",
    "color = 'tab:red'\n",
    "ax1.set_ylabel('ACC', color=color)\n",
    "ax1.bar(xx, accs, color=color, alpha=0.5)\n",
    "ax1.set_ylim(88, 95)\n",
    "ax1.set_xticks(xx)\n",
    "ax1.set_xticklabels(names, rotation=90)\n",
    "\n",
    "# PARAMS\n",
    "ax2 = ax1.twinx()  # instantiate a second axes that shares the same x-axis\n",
    "\n",
    "color = 'tab:blue'\n",
    "ax2.set_ylabel('#Parms', color=color)  # we already handled the x-label with ax1\n",
    "ax2.bar(xx, params, color=color, alpha=0.5)\n",
    "ax2.tick_params(axis='y', labelcolor=color)\n",
    "\n",
    "fig.tight_layout()  # otherwise the right y-label is slightly clipped\n",
    "plt.show()"
   ]
  },
  {
   "cell_type": "code",
   "execution_count": null,
   "metadata": {},
   "outputs": [],
   "source": [
    "plt.bar(xx, acc_per_param, log=False, alpha=0.5, color=\"green\")\n",
    "plt.xticks(xx, names, rotation='vertical')\n",
    "plt.title(\"ACC / param\")\n",
    "plt.show()"
   ]
  },
  {
   "cell_type": "markdown",
   "metadata": {},
   "source": [
    "- VGG seems to be horrible -> throw out\n",
    "- Add Try MobileNetV2/V3, MNASNet1.0"
   ]
  },
  {
   "cell_type": "code",
   "execution_count": null,
   "metadata": {},
   "outputs": [],
   "source": [
    "for i in range(len(xx)):\n",
    "    if acc_per_param[i] > 1e-5:\n",
    "        print(names[i])"
   ]
  },
  {
   "cell_type": "code",
   "execution_count": null,
   "metadata": {},
   "outputs": [],
   "source": []
  }
 ],
 "metadata": {
  "kernelspec": {
   "display_name": "Python 3",
   "language": "python",
   "name": "python3"
  },
  "language_info": {
   "codemirror_mode": {
    "name": "ipython",
    "version": 3
   },
   "file_extension": ".py",
   "mimetype": "text/x-python",
   "name": "python",
   "nbconvert_exporter": "python",
   "pygments_lexer": "ipython3",
   "version": "3.6.12"
  },
  "latex_envs": {
   "LaTeX_envs_menu_present": true,
   "autoclose": false,
   "autocomplete": true,
   "bibliofile": "biblio.bib",
   "cite_by": "apalike",
   "current_citInitial": 1,
   "eqLabelWithNumbers": true,
   "eqNumInitial": 1,
   "hotkeys": {
    "equation": "Ctrl-E",
    "itemize": "Ctrl-I"
   },
   "labels_anchors": false,
   "latex_user_defs": false,
   "report_style_numbering": false,
   "user_envs_cfg": false
  }
 },
 "nbformat": 4,
 "nbformat_minor": 4
}
