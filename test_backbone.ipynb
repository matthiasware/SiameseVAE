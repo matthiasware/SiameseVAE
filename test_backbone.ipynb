{
 "cells": [
  {
   "cell_type": "code",
   "execution_count": null,
   "metadata": {},
   "outputs": [],
   "source": [
    "import torch\n",
    "import numpy as np\n",
    "#\n",
    "from resnets import *"
   ]
  },
  {
   "cell_type": "code",
   "execution_count": null,
   "metadata": {},
   "outputs": [],
   "source": [
    "def get_backbone(backbone: str, pretrained=False):\n",
    "    if backbone == \"resnet50\":\n",
    "        model = resnet50(pretrained=pretrained)\n",
    "        model.out_dim = model.fc.in_features\n",
    "        model.fc = torch.nn.Identity()\n",
    "        return model\n",
    "    elif backbone == \"resnet34\":\n",
    "        model = resnet34(pretrained=pretrained)\n",
    "        model.out_dim = model.fc.in_features\n",
    "        model.fc = torch.nn.Identity()\n",
    "        return model\n",
    "    elif backbone == \"resnet18\":\n",
    "        model = resnet18(pretrained=pretrained)\n",
    "        model.out_dim = model.fc.in_features\n",
    "        model.fc = torch.nn.Identity()\n",
    "        return model\n",
    "    elif backbone == \"mobilenet_v2\":\n",
    "        raise Exception(\"Not implemented yet\")\n",
    "        # model = mobilenet_v2(pretrained=False)\n",
    "        # out_dim = model.classifier[-1].in_features\n",
    "        # model = nn.Sequential(*list(model.features.children()))\n",
    "        # model.out_dim = out_dim\n",
    "        # model = ResNet10(n_classes=10, n_output_planes= [64, 128, 256, 512])\n",
    "        # out_dim = model.fc.in_features\n",
    "        # model = nn.Sequential(*list(model.children())[:-1])\n",
    "        # model.out_dim = out_dim\n",
    "        return model\n",
    "    else:\n",
    "        raise Exception(f\"Backbone '{backbone}' does not exist!\")"
   ]
  },
  {
   "cell_type": "code",
   "execution_count": null,
   "metadata": {},
   "outputs": [],
   "source": [
    "model = get_backbone(\"resnet101\", False)"
   ]
  },
  {
   "cell_type": "markdown",
   "metadata": {},
   "source": [
    "MobileNet-v2\n",
    "MobileNet-v3-Large\n",
    "MNASNet 1.0\n",
    "Densenet-121\n",
    "ResNets"
   ]
  }
 ],
 "metadata": {
  "kernelspec": {
   "display_name": "Python 3",
   "language": "python",
   "name": "python3"
  },
  "language_info": {
   "codemirror_mode": {
    "name": "ipython",
    "version": 3
   },
   "file_extension": ".py",
   "mimetype": "text/x-python",
   "name": "python",
   "nbconvert_exporter": "python",
   "pygments_lexer": "ipython3",
   "version": "3.6.12"
  },
  "latex_envs": {
   "LaTeX_envs_menu_present": true,
   "autoclose": false,
   "autocomplete": true,
   "bibliofile": "biblio.bib",
   "cite_by": "apalike",
   "current_citInitial": 1,
   "eqLabelWithNumbers": true,
   "eqNumInitial": 1,
   "hotkeys": {
    "equation": "Ctrl-E",
    "itemize": "Ctrl-I"
   },
   "labels_anchors": false,
   "latex_user_defs": false,
   "report_style_numbering": false,
   "user_envs_cfg": false
  }
 },
 "nbformat": 4,
 "nbformat_minor": 4
}
