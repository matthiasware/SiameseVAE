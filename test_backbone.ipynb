{
 "cells": [
  {
   "cell_type": "code",
   "execution_count": 1,
   "metadata": {},
   "outputs": [],
   "source": [
    "import torch\n",
    "import numpy as np\n",
    "#\n",
    "from models.backbones import *\n",
    "import torchvision"
   ]
  },
  {
   "cell_type": "code",
   "execution_count": 2,
   "metadata": {},
   "outputs": [
    {
     "name": "stdout",
     "output_type": "stream",
     "text": [
      "MobileNet-v2\n",
      "MobileNet-v3-Small\n",
      "MobileNet-v3-Large\n",
      "MNASNet0.5\n",
      "MNASNet1.0\n",
      "MNASNet1.3\n",
      "Densenet-121\n",
      "Densenet-161\n",
      "Densenet-169\n",
      "Densenet-201\n",
      "ResNet-18\n",
      "ResNet-34\n",
      "ResNet-50\n",
      "ResNet-101\n",
      "ResNet-152\n",
      "Wide-ResNet-50-2\n",
      "Wide-ResNet-101-2\n",
      "ResNeXt-50-32x4d\n",
      "ResNeXt-101-32x8d\n"
     ]
    }
   ],
   "source": [
    "for backbone in ALL_BACKBONES:\n",
    "    print(backbone)"
   ]
  },
  {
   "cell_type": "code",
   "execution_count": 3,
   "metadata": {},
   "outputs": [
    {
     "name": "stdout",
     "output_type": "stream",
     "text": [
      "MobileNet-v2         1280\n",
      "MobileNet-v3-Small   576\n",
      "MobileNet-v3-Large   960\n",
      "MNASNet0.5           1280\n",
      "MNASNet1.0           1280\n",
      "MNASNet1.3           1280\n",
      "Densenet-121         1024\n",
      "Densenet-161         2208\n",
      "Densenet-169         1664\n",
      "Densenet-201         1920\n",
      "ResNet-18            512\n",
      "ResNet-34            512\n",
      "ResNet-50            2048\n",
      "ResNet-101           2048\n",
      "ResNet-152           2048\n",
      "Wide-ResNet-50-2     2048\n",
      "Wide-ResNet-101-2    2048\n",
      "ResNeXt-50-32x4d     2048\n",
      "ResNeXt-101-32x8d    2048\n"
     ]
    }
   ],
   "source": [
    "# get output dimensions\n",
    "for backbone in ALL_BACKBONES:\n",
    "    model = get_backbone(backbone, pretrained=False)\n",
    "    print(\"{:20} {}\".format(backbone, model.dim_out))"
   ]
  },
  {
   "cell_type": "code",
   "execution_count": 4,
   "metadata": {},
   "outputs": [],
   "source": [
    "d_z = 578\n",
    "pretrained=False\n",
    "img_sizes = [32, 64, 128, 256]"
   ]
  },
  {
   "cell_type": "code",
   "execution_count": null,
   "metadata": {},
   "outputs": [],
   "source": [
    "# test various img sizes\n",
    "for backbone in ALL_BACKBONES:\n",
    "    print(f\"{backbone}\")\n",
    "    for img_size in img_sizes:\n",
    "        x = torch.rand((7, 3, img_size, img_size))\n",
    "        model = get_backbone(backbone, pretrained=pretrained)\n",
    "        x_features = model(x)\n",
    "        print(\"\\t{}: {}\".format(img_size, x_features.shape))"
   ]
  },
  {
   "cell_type": "code",
   "execution_count": 5,
   "metadata": {},
   "outputs": [
    {
     "name": "stdout",
     "output_type": "stream",
     "text": [
      "MobileNet-v2        , #params: 2,223,872\n",
      "\t features: torch.Size([7, 1280])\n",
      "\t latent:   torch.Size([7, 578])\n",
      "MobileNet-v3-Small  , #params: 927,008\n",
      "\t features: torch.Size([7, 576])\n",
      "\t latent:   torch.Size([7, 578])\n",
      "MobileNet-v3-Large  , #params: 2,971,952\n",
      "\t features: torch.Size([7, 960])\n",
      "\t latent:   torch.Size([7, 578])\n",
      "MNASNet0.5          , #params: 937,512\n",
      "\t features: torch.Size([7, 1280])\n",
      "\t latent:   torch.Size([7, 578])\n",
      "MNASNet1.0          , #params: 3,102,312\n",
      "\t features: torch.Size([7, 1280])\n",
      "\t latent:   torch.Size([7, 578])\n",
      "MNASNet1.3          , #params: 5,001,256\n",
      "\t features: torch.Size([7, 1280])\n",
      "\t latent:   torch.Size([7, 578])\n",
      "Densenet-121        , #params: 6,953,856\n",
      "\t features: torch.Size([7, 1024])\n",
      "\t latent:   torch.Size([7, 578])\n",
      "Densenet-161        , #params: 26,472,000\n",
      "\t features: torch.Size([7, 2208])\n",
      "\t latent:   torch.Size([7, 578])\n",
      "Densenet-169        , #params: 12,484,480\n",
      "\t features: torch.Size([7, 1664])\n",
      "\t latent:   torch.Size([7, 578])\n",
      "Densenet-201        , #params: 18,092,928\n",
      "\t features: torch.Size([7, 1920])\n",
      "\t latent:   torch.Size([7, 578])\n",
      "ResNet-18           , #params: 11,176,512\n",
      "\t features: torch.Size([7, 512])\n",
      "\t latent:   torch.Size([7, 578])\n",
      "ResNet-34           , #params: 21,284,672\n",
      "\t features: torch.Size([7, 512])\n",
      "\t latent:   torch.Size([7, 578])\n",
      "ResNet-50           , #params: 23,508,032\n",
      "\t features: torch.Size([7, 2048])\n",
      "\t latent:   torch.Size([7, 578])\n",
      "ResNet-101          , #params: 42,500,160\n",
      "\t features: torch.Size([7, 2048])\n",
      "\t latent:   torch.Size([7, 578])\n",
      "ResNet-152          , #params: 58,143,808\n",
      "\t features: torch.Size([7, 2048])\n",
      "\t latent:   torch.Size([7, 578])\n",
      "Wide-ResNet-50-2    , #params: 66,834,240\n",
      "\t features: torch.Size([7, 2048])\n",
      "\t latent:   torch.Size([7, 578])\n",
      "Wide-ResNet-101-2   , #params: 124,837,696\n",
      "\t features: torch.Size([7, 2048])\n",
      "\t latent:   torch.Size([7, 578])\n",
      "ResNeXt-50-32x4d    , #params: 22,979,904\n",
      "\t features: torch.Size([7, 2048])\n",
      "\t latent:   torch.Size([7, 578])\n",
      "ResNeXt-101-32x8d   , #params: 86,742,336\n",
      "\t features: torch.Size([7, 2048])\n",
      "\t latent:   torch.Size([7, 578])\n"
     ]
    }
   ],
   "source": [
    "# check outputs\n",
    "x = x = torch.rand((7, 3, 32, 32))\n",
    "for backbone in ALL_BACKBONES:\n",
    "    model = get_backbone(backbone, pretrained=pretrained)\n",
    "    n_params = get_model_params(model)\n",
    "    print(\"{:20}, #params: {:,}\".format(backbone, n_params))\n",
    "    # get projection\n",
    "    projection_head = get_projection_head(model.dim_out, d_z)\n",
    "    #\n",
    "    x_features = model(x)\n",
    "    print(\"\\t features: {}\".format(x_features.shape))\n",
    "    #\n",
    "    z = projection_head(x_features)\n",
    "    print(\"\\t latent:   {}\".format(z.shape))"
   ]
  },
  {
   "cell_type": "code",
   "execution_count": null,
   "metadata": {},
   "outputs": [],
   "source": [
    "model = torchvision.models.mobilenet_v3_small()"
   ]
  },
  {
   "cell_type": "code",
   "execution_count": null,
   "metadata": {},
   "outputs": [],
   "source": [
    "model"
   ]
  },
  {
   "cell_type": "code",
   "execution_count": null,
   "metadata": {},
   "outputs": [],
   "source": []
  }
 ],
 "metadata": {
  "kernelspec": {
   "display_name": "Python 3",
   "language": "python",
   "name": "python3"
  },
  "language_info": {
   "codemirror_mode": {
    "name": "ipython",
    "version": 3
   },
   "file_extension": ".py",
   "mimetype": "text/x-python",
   "name": "python",
   "nbconvert_exporter": "python",
   "pygments_lexer": "ipython3",
   "version": "3.8.8"
  },
  "latex_envs": {
   "LaTeX_envs_menu_present": true,
   "autoclose": false,
   "autocomplete": true,
   "bibliofile": "biblio.bib",
   "cite_by": "apalike",
   "current_citInitial": 1,
   "eqLabelWithNumbers": true,
   "eqNumInitial": 1,
   "hotkeys": {
    "equation": "Ctrl-E",
    "itemize": "Ctrl-I"
   },
   "labels_anchors": false,
   "latex_user_defs": false,
   "report_style_numbering": false,
   "user_envs_cfg": false
  }
 },
 "nbformat": 4,
 "nbformat_minor": 4
}
