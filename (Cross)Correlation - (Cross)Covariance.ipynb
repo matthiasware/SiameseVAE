{
 "cells": [
  {
   "cell_type": "code",
   "execution_count": null,
   "metadata": {},
   "outputs": [],
   "source": [
    "import numpy as np\n",
    "import scipy\n",
    "from scipy.stats import multivariate_normal"
   ]
  },
  {
   "cell_type": "code",
   "execution_count": null,
   "metadata": {},
   "outputs": [],
   "source": [
    "def calc_mean(X):\n",
    "    # X.sum(axis=0) / X.shape[0]\n",
    "    return X.mean(axis=0)\n",
    "\n",
    "def calc_var(X):\n",
    "    # np.sum((X - X.mean(axis=0))**2, axis=0) / n_samples\n",
    "    return X.var(axis=0)\n",
    "\n",
    "def calc_std(X):\n",
    "    return X.std(axis=0)\n",
    "\n",
    "def calc_mycov(X):\n",
    "    cov_my = np.zeros((X.shape[1], X.shape[1]))\n",
    "    #\n",
    "    for i in range(X.shape[1]):\n",
    "        for j in range(X.shape[1]):\n",
    "            x = X[:, i]\n",
    "            y = X[:, j]\n",
    "            cov_my[i][j] = np.sum(((x - x.mean()) * (y - y.mean()))) / len(x)\n",
    "    return cov_my\n",
    "\n",
    "\n",
    "def calc_cov(X):\n",
    "    X_centered = X - calc_mean(X)\n",
    "    Q = X_centered.T.dot(X_centered) / (X.shape[0] - 1)\n",
    "    return Q\n",
    "\n",
    "def calc_corr(X):\n",
    "    Q = calc_cov(X)\n",
    "    std_x = calc_std(X)\n",
    "    std_x = std_x.reshape((-1, 1))\n",
    "    #\n",
    "    NORM = std_x.dot(std_x.T)\n",
    "    return Q / NORM\n",
    "\n",
    "\n",
    "def calc_corrcoef(X):\n",
    "    stds = calc_std(X)\n",
    "    std_std = stds.reshape((-1, 1)).dot(stds.reshape(-1, 1).T)\n",
    "    #\n",
    "    cov = np.cov(X.T)\n",
    "    cor = cov / std_std\n",
    "    return cor\n",
    "\n",
    "def calc_cross_cov(X, Y):\n",
    "    X_cent = X - calc_mean(X)\n",
    "    Y_cent = Y - calc_mean(Y)\n",
    "    #\n",
    "    Q = X_cent.T.dot(Y_cent) / X.shape[0]\n",
    "    return Q\n",
    "\n",
    "def calc_cross_cor(X, Y):\n",
    "    ccov = calc_cross_cov(X, Y)\n",
    "    #\n",
    "    std_X = calc_std(X)\n",
    "    std_Y = calc_std(Y)\n",
    "    std_std = std_X.reshape((-1, 1)).dot(std_Y.reshape(-1, 1).T)\n",
    "    \n",
    "    Q = ccov / std_std\n",
    "    return Q"
   ]
  },
  {
   "cell_type": "code",
   "execution_count": null,
   "metadata": {},
   "outputs": [],
   "source": [
    "# define distribution\n",
    "mean = np.array([1, 2, 3, 4])\n",
    "var = np.array([5, 6, 7, 8])\n",
    "std = np.sqrt(var)\n",
    "cov = np.diag(var)\n",
    "\n",
    "# sample from that distribution\n",
    "n_samples = 10000\n",
    "X = np.random.multivariate_normal(mean, cov, n_samples)"
   ]
  },
  {
   "cell_type": "code",
   "execution_count": null,
   "metadata": {},
   "outputs": [],
   "source": [
    "cor = calc_corrcoef(X)\n",
    "print(cor)"
   ]
  },
  {
   "cell_type": "code",
   "execution_count": null,
   "metadata": {},
   "outputs": [],
   "source": [
    "print(np.corrcoef(X.T))"
   ]
  },
  {
   "cell_type": "code",
   "execution_count": null,
   "metadata": {},
   "outputs": [],
   "source": [
    "ccov = calc_cross_cov(X, X)\n",
    "print(ccov)"
   ]
  },
  {
   "cell_type": "code",
   "execution_count": null,
   "metadata": {},
   "outputs": [],
   "source": [
    "print(np.cov(X.T))"
   ]
  },
  {
   "cell_type": "code",
   "execution_count": null,
   "metadata": {},
   "outputs": [],
   "source": [
    "print(calc_cross_cor(X, X))"
   ]
  },
  {
   "cell_type": "code",
   "execution_count": null,
   "metadata": {},
   "outputs": [],
   "source": [
    "print(np.corrcoef(X.T))"
   ]
  },
  {
   "cell_type": "code",
   "execution_count": null,
   "metadata": {},
   "outputs": [],
   "source": []
  }
 ],
 "metadata": {
  "kernelspec": {
   "display_name": "Python 3",
   "language": "python",
   "name": "python3"
  },
  "language_info": {
   "codemirror_mode": {
    "name": "ipython",
    "version": 3
   },
   "file_extension": ".py",
   "mimetype": "text/x-python",
   "name": "python",
   "nbconvert_exporter": "python",
   "pygments_lexer": "ipython3",
   "version": "3.6.12"
  },
  "latex_envs": {
   "LaTeX_envs_menu_present": true,
   "autoclose": false,
   "autocomplete": true,
   "bibliofile": "biblio.bib",
   "cite_by": "apalike",
   "current_citInitial": 1,
   "eqLabelWithNumbers": true,
   "eqNumInitial": 1,
   "hotkeys": {
    "equation": "Ctrl-E",
    "itemize": "Ctrl-I"
   },
   "labels_anchors": false,
   "latex_user_defs": false,
   "report_style_numbering": false,
   "user_envs_cfg": false
  }
 },
 "nbformat": 4,
 "nbformat_minor": 4
}
