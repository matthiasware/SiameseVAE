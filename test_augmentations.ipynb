{
 "cells": [
  {
   "cell_type": "code",
   "execution_count": null,
   "metadata": {},
   "outputs": [],
   "source": [
    "%load_ext autoreload\n",
    "%autoreload 2"
   ]
  },
  {
   "cell_type": "code",
   "execution_count": null,
   "metadata": {},
   "outputs": [],
   "source": [
    "import torch\n",
    "from torch import nn\n",
    "from torch.nn import functional as F\n",
    "import torchvision\n",
    "#\n",
    "import torchvision.transforms as T\n",
    "from PIL import Image\n",
    "#\n",
    "from dotted_dict import DottedDict\n",
    "import matplotlib.pyplot as plt\n",
    "import numpy as np\n",
    "#\n",
    "import pprint \n",
    "pp = pprint.PrettyPrinter(indent=4)"
   ]
  },
  {
   "cell_type": "code",
   "execution_count": null,
   "metadata": {},
   "outputs": [],
   "source": [
    "from PIL import Image\n",
    "from dotted_dict import DottedDict\n",
    "import matplotlib.pyplot as plt\n",
    "import numpy as np\n",
    "import pprint \n",
    "#\n",
    "from augmentations import *"
   ]
  },
  {
   "cell_type": "code",
   "execution_count": null,
   "metadata": {},
   "outputs": [],
   "source": [
    "pp = pprint.PrettyPrinter(indent=4)"
   ]
  },
  {
   "cell_type": "markdown",
   "metadata": {},
   "source": [
    "### Load img"
   ]
  },
  {
   "cell_type": "code",
   "execution_count": null,
   "metadata": {},
   "outputs": [],
   "source": [
    "img = Image.open(\"data/GOGH.jpg\")\n",
    "print(img.size)\n",
    "#\n",
    "plt.imshow(np.array(img))\n",
    "#"
   ]
  },
  {
   "cell_type": "markdown",
   "metadata": {},
   "source": [
    "### Train transform"
   ]
  },
  {
   "cell_type": "code",
   "execution_count": null,
   "metadata": {},
   "outputs": [],
   "source": [
    "config = [\n",
    "    (\"RandomResizedCrop\", {'size': 256,\"scale\":(0.2, 1.0)}),\n",
    "    (\"RandomHorizontalFlip\", {'p': 0.5}),\n",
    "    (\"RandomApply\", {\n",
    "        \"transforms\": [\n",
    "            (\"ColorJitter\", {\"brightness\": 0.4, \"contrast\": 0.4,\"saturation\": 0.4,'hue': 0.1}),\n",
    "        ],\n",
    "        \"p\": 0.8,\n",
    "    }),\n",
    "    (\"RandomGrayscale\", {\"p\": 0.2}),\n",
    "    (\"RandomApply\", {\n",
    "        \"transforms\": [\n",
    "            ('GaussianBlur', {'kernel_size': 256 // 20 * 2 + 1,'sigma':(0.5, 2.0)})\n",
    "        ],\n",
    "        \"p\": 0.5,\n",
    "    }),\n",
    "    (\"ToTensor\", {}),\n",
    "]\n",
    "pp.pprint(config)"
   ]
  },
  {
   "cell_type": "code",
   "execution_count": null,
   "metadata": {},
   "outputs": [],
   "source": [
    "transform = SimSiamAugmentation(config, downstream=True)\n",
    "x = transform(img)\n",
    "#\n",
    "print(x.shape)\n",
    "plt.imshow(x.permute(1, 2, 0))"
   ]
  },
  {
   "cell_type": "code",
   "execution_count": null,
   "metadata": {},
   "outputs": [],
   "source": [
    "transform = SimSiamAugmentation(config, downstream=False)\n",
    "x1, x2 = transform(img)\n",
    "#\n",
    "print(x1.shape, x2.shape)\n",
    "fig, axes = plt.subplots(1, 2)\n",
    "axes[0].imshow(x1.permute(1, 2, 0))\n",
    "axes[1].imshow(x2.permute(1, 2, 0))"
   ]
  },
  {
   "cell_type": "markdown",
   "metadata": {},
   "source": [
    "### Test transform"
   ]
  },
  {
   "cell_type": "code",
   "execution_count": null,
   "metadata": {},
   "outputs": [],
   "source": [
    "config = [\n",
    "    (\"Resize\", {'size': (256, 256)}),\n",
    "    (\"ToTensor\", {}),\n",
    "    #('Normalize', {'mean':[0.485, 0.456, 0.406], 'std':[0.229, 0.224, 0.225]}),\n",
    "]\n",
    "pp.pprint(config)\n",
    "#\n",
    "transform = SimSiamAugmentation(config, downstream=True)\n",
    "x = transform(img)\n",
    "#\n",
    "print(x.shape)\n",
    "plt.imshow(x.permute(1, 2, 0))"
   ]
  },
  {
   "cell_type": "markdown",
   "metadata": {},
   "source": [
    "## Grayscale imgs"
   ]
  },
  {
   "cell_type": "code",
   "execution_count": null,
   "metadata": {},
   "outputs": [],
   "source": [
    "img = Image.open(\"data/grayscale.png\").convert('L')\n",
    "print(img.size)\n",
    "plt.imshow(np.array(img),cmap=\"gray\")"
   ]
  },
  {
   "cell_type": "code",
   "execution_count": null,
   "metadata": {},
   "outputs": [],
   "source": [
    "config = [\n",
    "    (\"RandomResizedCrop\", {'size': 256,\"scale\":(0.8, 1.0)}),\n",
    "    (\"RandomHorizontalFlip\", {'p': 0.5}),\n",
    "    (\"RandomApply\", {\n",
    "        \"transforms\": [\n",
    "            ('GaussianBlur', {'kernel_size': 256 // 20 * 2 + 1,'sigma':(0.5, 2.0)})\n",
    "        ],\n",
    "        \"p\": 0.8,\n",
    "    }),\n",
    "    (\"ToTensor\", {}),\n",
    "]\n",
    "pp.pprint(config)"
   ]
  },
  {
   "cell_type": "code",
   "execution_count": null,
   "metadata": {},
   "outputs": [],
   "source": [
    "transform = SimSiamAugmentation(config, downstream=True)\n",
    "x = transform(img)\n",
    "#\n",
    "print(x.shape)\n",
    "plt.imshow(x.permute(1, 2, 0), cmap=\"gray\")"
   ]
  },
  {
   "cell_type": "code",
   "execution_count": null,
   "metadata": {},
   "outputs": [],
   "source": []
  }
 ],
 "metadata": {
  "kernelspec": {
   "display_name": "Python 3",
   "language": "python",
   "name": "python3"
  },
  "language_info": {
   "codemirror_mode": {
    "name": "ipython",
    "version": 3
   },
   "file_extension": ".py",
   "mimetype": "text/x-python",
   "name": "python",
   "nbconvert_exporter": "python",
   "pygments_lexer": "ipython3",
   "version": "3.6.12"
  },
  "latex_envs": {
   "LaTeX_envs_menu_present": true,
   "autoclose": false,
   "autocomplete": true,
   "bibliofile": "biblio.bib",
   "cite_by": "apalike",
   "current_citInitial": 1,
   "eqLabelWithNumbers": true,
   "eqNumInitial": 1,
   "hotkeys": {
    "equation": "Ctrl-E",
    "itemize": "Ctrl-I"
   },
   "labels_anchors": false,
   "latex_user_defs": false,
   "report_style_numbering": false,
   "user_envs_cfg": false
  }
 },
 "nbformat": 4,
 "nbformat_minor": 4
}
